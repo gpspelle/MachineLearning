{
 "cells": [
  {
   "cell_type": "code",
   "execution_count": null,
   "metadata": {},
   "outputs": [],
   "source": [
    "import numpy as np\n",
    "import scipy.linalg as linalg"
   ]
  },
  {
   "cell_type": "code",
   "execution_count": null,
   "metadata": {},
   "outputs": [],
   "source": [
    "# random seed for reproducible results\n",
    "np.random.seed(1)"
   ]
  },
  {
   "cell_type": "code",
   "execution_count": null,
   "metadata": {},
   "outputs": [],
   "source": [
    "my_data = np.genfromtxt('wine_data.csv', delimiter=',')\n",
    "n_train = 100\n",
    "\n",
    "np.random.shuffle(my_data)  # shuffle datataset\n",
    "trainingData = my_data[:n_train, 1:]  # training data\n",
    "trainingLabels = my_data[:n_train, 0]  # class labels of training data\n",
    "\n",
    "testData = my_data[n_train:, 1:]  # training data\n",
    "testLabels = my_data[n_train:, 0]  # class labels of training data"
   ]
  },
  {
   "cell_type": "code",
   "execution_count": null,
   "metadata": {},
   "outputs": [],
   "source": [
    "def my_LDA(X, Y):\n",
    "    \"\"\"\n",
    "    Train a LDA classifier from the training set\n",
    "    X: training data\n",
    "    Y: class labels of training data\n",
    "\n",
    "    \"\"\"    \n",
    "    classLabels = np.unique(Y)  # different class labels on the dataset\n",
    "    classNum = len(classLabels)\n",
    "    datanum, dim = X.shape  # dimensions of the dataset\n",
    "    totalMean = np.mean(X, 0)  # total mean of the data\n",
    "\n",
    "    # ====================== YOUR CODE HERE ======================\n",
    "    # Instructions: Implement the LDA technique, following the\n",
    "    # steps given in the pseudocode on the assignment.\n",
    "    # The function should return the projection matrix W,\n",
    "    # the centroid vector for each class projected to the new\n",
    "    # space defined by W and the projected data X_lda.\n",
    "\n",
    "\n",
    "    # =============================================================\n",
    "\n",
    "    return W, projected_centroid, X_lda"
   ]
  },
  {
   "cell_type": "code",
   "execution_count": null,
   "metadata": {},
   "outputs": [],
   "source": [
    "# training LDA classifier\n",
    "W, projected_centroid, X_lda = my_LDA(trainingData, trainingLabels)"
   ]
  },
  {
   "cell_type": "code",
   "execution_count": null,
   "metadata": {},
   "outputs": [],
   "source": [
    "def predict(X, projected_centroid, W):\n",
    "    \"\"\"Apply the trained LDA classifier on the test data\n",
    "    X: test data\n",
    "    projected_centroid: centroid vectors of each class projected to the new space\n",
    "    W: projection matrix computed by LDA\n",
    "    \"\"\"\n",
    "\n",
    "    # Project test data onto the LDA space defined by W\n",
    "    projected_data = np.dot(X, W)\n",
    "\n",
    "    # ====================== YOUR CODE HERE ======================\n",
    "    # Instructions: Fill in the code to implement the classification\n",
    "    # part of LDA. Follow the steps given in the assigment.\n",
    "\n",
    "    # =============================================================\n",
    "\n",
    "    # Return the predicted labels of the test data X\n",
    "    return label"
   ]
  },
  {
   "cell_type": "code",
   "execution_count": null,
   "metadata": {},
   "outputs": [],
   "source": [
    "# Perform predictions for the test data\n",
    "predictedLabels = predict(testData, projected_centroid, W)\n",
    "predictedLabels = predictedLabels+1\n",
    "\n",
    "\n",
    "# Compute accuracy\n",
    "counter = 0\n",
    "for i in range(predictedLabels.size):\n",
    "    if predictedLabels[i] == testLabels[i]:\n",
    "        counter += 1\n",
    "print('Accuracy of LDA: %f' % (counter / float(predictedLabels.size) * 100.0))"
   ]
  }
 ],
 "metadata": {
  "kernelspec": {
   "display_name": "Python 3",
   "language": "python",
   "name": "python3"
  },
  "language_info": {
   "codemirror_mode": {
    "name": "ipython",
    "version": 3
   },
   "file_extension": ".py",
   "mimetype": "text/x-python",
   "name": "python",
   "nbconvert_exporter": "python",
   "pygments_lexer": "ipython3",
   "version": "3.6.7"
  }
 },
 "nbformat": 4,
 "nbformat_minor": 2
}
